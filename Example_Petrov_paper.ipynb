{
 "cells": [
  {
   "cell_type": "code",
   "execution_count": null,
   "metadata": {},
   "outputs": [],
   "source": []
  },
  {
   "cell_type": "code",
   "execution_count": 15,
   "metadata": {},
   "outputs": [],
   "source": [
    "import networkx as nx\n",
    "import reduction\n",
    "import simulate\n",
    "import numpy as np\n",
    "import matplotlib.pyplot as plt\n",
    "\n",
    "\n",
    "def get_edge_labels_dic(G):\n",
    "    edge_labels = {}\n",
    "    for e in G.edges:\n",
    "        edge_labels[e] = G.get_edge_data(e[0],e[1])['weight']    \n",
    "    return edge_labels\n",
    "\n",
    "def permute_timescales(G):\n",
    "    edge_labels = get_edge_labels_dic(G)\n",
    "    vals = list(edge_labels.values())\n",
    "    perm = np.random.permutation(len(vals))\n",
    "    for i,e in enumerate(edge_labels):\n",
    "        edge_labels[e] = vals[perm[i]]\n",
    "    nx.set_edge_attributes(G,edge_labels,'weight')\n",
    "    \n",
    "def plot_dynamics(G,title='',timescale=5,highlighted_node=None):\n",
    "    X = np.zeros((len(G.edges),3)).astype(np.int32)\n",
    "    node_names = []\n",
    "    for n in G:\n",
    "        node_names.append(n)\n",
    "    node_names.sort()\n",
    "    for i,e  in enumerate(G.edges):\n",
    "        X[i,0] = node_names.index(e[0])\n",
    "        X[i,1] = node_names.index(e[1])\n",
    "        X[i,2] = G.get_edge_data(e[0],e[1])['weight']\n",
    "    (t,XX) = simulate.simulate(X, timescale)\n",
    "    #t0 = 0\n",
    "    #tmax = 10**timescale\n",
    "    #steps = XX.shape[0]\n",
    "    #t = np.linspace(t0, tmax, steps)\n",
    "    simulate.plot_trace(XX,logy=False,logx=True,labels=node_names,time=t)\n",
    "    if not highlighted_node is None:\n",
    "        irx = node_names.index(highlighted_node)\n",
    "        plt.plot(t,XX[:,irx],'r-',linewidth=5)\n",
    "    plt.title(title)"
   ]
  },
  {
   "cell_type": "markdown",
   "metadata": {},
   "source": [
    "### We load the file containing the model from https://link.springer.com/chapter/10.1007/978-3-030-60327-4_3#Fig2\n",
    "    "
   ]
  },
  {
   "cell_type": "code",
   "execution_count": 16,
   "metadata": {},
   "outputs": [
    {
     "name": "stdout",
     "output_type": "stream",
     "text": [
      "{('S1', 'S2'): -1, ('S2', 'S1'): -2, ('S2', 'S3'): -1, ('S3', 'S2'): -1, ('S3', 'S4'): -2, ('S4', 'S3'): -1}\n"
     ]
    },
    {
     "data": {
      "image/png": "[encoded data removed]",
      "text/plain": [
       "<Figure size 432x288 with 1 Axes>"
      ]
     },
     "metadata": {},
     "output_type": "display_data"
    }
   ],
   "source": [
    "filename = 'models/petrov.csv'\n",
    "reduced_filename = \"%s_reduced\" % filename\n",
    "timescale = 5\n",
    "G = reduction.load(filename)\n",
    "node_names = []\n",
    "for n in G:\n",
    "    node_names.append(n)\n",
    "color_map = []\n",
    "for node in G:\n",
    "    color_map.append('lightgray')\n",
    "pos = nx.nx_pydot.graphviz_layout(G)\n",
    "nx.draw(G, pos,with_labels = True,node_color=color_map,\n",
    "        font_size=20,node_size=500,arrowsize=30,arrowstyle='->',\n",
    "       connectionstyle=\"arc3,rad=0.1\")\n",
    "edge_labels = get_edge_labels_dic(G)\n",
    "nx.draw_networkx_edge_labels(G,pos,edge_labels=edge_labels,font_color='black',font_size=20)\n",
    "edge_labels = get_edge_labels_dic(G)\n",
    "print(edge_labels)\n",
    "plt.show()\n"
   ]
  },
  {
   "cell_type": "markdown",
   "metadata": {},
   "source": []
  },
  {
   "cell_type": "code",
   "execution_count": 17,
   "metadata": {},
   "outputs": [
    {
     "name": "stdout",
     "output_type": "stream",
     "text": [
      "Duplicated best edge\n",
      "ERROR: Error in reduction!\n"
     ]
    }
   ],
   "source": [
    "try:\n",
    "    uG = reduction.reduce_graph(G)\n",
    "    reduction.save_graph(uG, reduced_filename)\n",
    "    nx.draw(uG, pos, with_labels = True,node_color=color_map,font_size=20,node_size=500,arrowsize=30,arrowstyle='->')\n",
    "    edge_labels = get_edge_labels_dic(uG)\n",
    "    nx.draw_networkx_edge_labels(uG,pos,edge_labels=edge_labels,font_color='black',font_size=20)\n",
    "    plt.show()\n",
    "except:\n",
    "    print('ERROR: Error in reduction!')"
   ]
  },
  {
   "cell_type": "code",
   "execution_count": null,
   "metadata": {},
   "outputs": [],
   "source": []
  }
 ],
 "metadata": {
  "kernelspec": {
   "display_name": "Python 3",
   "language": "python",
   "name": "python3"
  },
  "language_info": {
   "codemirror_mode": {
    "name": "ipython",
    "version": 3
   },
   "file_extension": ".py",
   "mimetype": "text/x-python",
   "name": "python",
   "nbconvert_exporter": "python",
   "pygments_lexer": "ipython3",
   "version": "3.7.5"
  }
 },
 "nbformat": 4,
 "nbformat_minor": 4
}
